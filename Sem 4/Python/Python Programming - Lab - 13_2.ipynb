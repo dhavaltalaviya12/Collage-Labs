{
 "cells": [
  {
   "cell_type": "markdown",
   "metadata": {},
   "source": [
    "<a href='https://www.darshan.ac.in/'> <img src='https://www.darshan.ac.in/Content/media/DU_Logo.svg' width=\"250\" height=\"300\"/></a>\n",
    "<pre>\n",
    "<center><b><h1>Python Programming - 2301CS404</b></center>\n",
    "<center><b><h1>Dhaval Talaviya - 23010101263</b></center>\n",
    "<center><b><h1>Lab - 13</b></center>    \n",
    "<pre>"
   ]
  },
  {
   "cell_type": "markdown",
   "metadata": {},
   "source": [
    "## Continued.."
   ]
  },
  {
   "cell_type": "markdown",
   "metadata": {},
   "source": [
    "### 10) Calculate area of a ractangle using object as an argument to a method."
   ]
  },
  {
   "cell_type": "code",
   "execution_count": 2,
   "metadata": {},
   "outputs": [
    {
     "name": "stdout",
     "output_type": "stream",
     "text": [
      "The area of the rectangle is: 15\n"
     ]
    }
   ],
   "source": [
    "class Rectangle:\n",
    "    def __init__(self, length, width):\n",
    "        self.length = length\n",
    "        self.width = width\n",
    "    \n",
    "    def area(self):\n",
    "        return self.length * self.width\n",
    "\n",
    "rect = Rectangle(5, 3)\n",
    "\n",
    "def calculate_area(rect_obj):\n",
    "    return rect_obj.area()\n",
    "\n",
    "area = calculate_area(rect)\n",
    "print(f\"The area of the rectangle is: {area}\")\n"
   ]
  },
  {
   "cell_type": "markdown",
   "metadata": {},
   "source": [
    "### 11) Calculate the area of a square. \n",
    "### Include a Constructor, a method to calculate area named area() and a method named output() that prints the output and is invoked by area()."
   ]
  },
  {
   "cell_type": "code",
   "execution_count": 11,
   "metadata": {},
   "outputs": [
    {
     "name": "stdout",
     "output_type": "stream",
     "text": [
      "The area of the square is: 100\n"
     ]
    }
   ],
   "source": [
    "class Square:\n",
    "    def __init__(self, a):\n",
    "        self.a = a\n",
    "    \n",
    "    def area1(self):\n",
    "        return self.a * self.a\n",
    "    \n",
    "square1 = Square(10)\n",
    "\n",
    "def output(sq_obj):\n",
    "    return sq_obj.area1()\n",
    "\n",
    "area1 = output(square1)\n",
    "print(f\"The area of the square is: {area1}\")"
   ]
  },
  {
   "cell_type": "markdown",
   "metadata": {},
   "source": [
    "### 12) Calculate the area of a rectangle. \n",
    "### Include a Constructor, a method to calculate area named area() and a method named output() that prints the output and is invoked by area().\n",
    "### Also define a class method that compares the two sides of reactangle. An object is instantiated only if the two sides are different; otherwise a message should be displayed : THIS IS SQUARE."
   ]
  },
  {
   "cell_type": "code",
   "execution_count": 12,
   "metadata": {},
   "outputs": [
    {
     "name": "stdout",
     "output_type": "stream",
     "text": [
      "The area of the rectangle is: 50\n",
      "THIS IS SQUARE\n",
      "Cannot calculate area because this is a square.\n",
      "This is a rectangle.\n",
      "THIS IS SQUARE\n"
     ]
    }
   ],
   "source": [
    "class Rectangle:\n",
    "    def __init__(self, length, width):\n",
    "        if length == width:\n",
    "            print(\"THIS IS SQUARE\")\n",
    "            self.length = self.width = 0  \n",
    "        else:\n",
    "            self.length = length\n",
    "            self.width = width\n",
    "\n",
    "    def area(self):\n",
    "        if self.length != 0 and self.width != 0:\n",
    "            area = self.length * self.width\n",
    "            self.output(area)\n",
    "        else:\n",
    "            print(\"Cannot calculate area because this is a square.\")\n",
    "\n",
    "    def output(self, area):\n",
    "        print(f\"The area of the rectangle is: {area}\")\n",
    "\n",
    "    @classmethod\n",
    "    def compare_sides(cls, length, width):\n",
    "        if length == width:\n",
    "            print(\"THIS IS SQUARE\")\n",
    "        else:\n",
    "            print(\"This is a rectangle.\")\n",
    "    \n",
    "rect1 = Rectangle(10, 5)  \n",
    "rect1.area()  \n",
    "\n",
    "rect2 = Rectangle(5, 5)   \n",
    "rect2.area() \n",
    "\n",
    "Rectangle.compare_sides(10, 5) \n",
    "Rectangle.compare_sides(5, 5)   \n"
   ]
  },
  {
   "cell_type": "markdown",
   "metadata": {},
   "source": [
    "### 13) Define a class Square having a private attribute \"side\". \n",
    "### Implement get_side and set_side methods to accees the private attribute from outside of the class."
   ]
  },
  {
   "cell_type": "code",
   "execution_count": 13,
   "metadata": {},
   "outputs": [
    {
     "name": "stdout",
     "output_type": "stream",
     "text": [
      "4\n",
      "6\n",
      "Side length must be a positive value\n"
     ]
    }
   ],
   "source": [
    "class Square:\n",
    "    def __init__(self, side):\n",
    "        self.__side = side \n",
    "\n",
    "    def get_side(self):\n",
    "        return self.__side  \n",
    "\n",
    "    def set_side(self, side):\n",
    "        if side > 0:\n",
    "            self.__side = side  \n",
    "        else:\n",
    "            print(\"Side length must be a positive value\")\n",
    "\n",
    "square = Square(4)\n",
    "print(square.get_side())  \n",
    "\n",
    "square.set_side(6)\n",
    "print(square.get_side()) \n",
    "\n",
    "square.set_side(-2) \n"
   ]
  },
  {
   "cell_type": "markdown",
   "metadata": {},
   "source": [
    "### 14) Create a class Profit that has a method named getProfit that accepts profit from the user.\n",
    "### Create a class Loss that has a method named getLoss that accepts loss from the user.\n",
    "### Create a class BalanceSheet that inherits from both classes Profit and Loss and calculates the balanace. It has two methods getBalance() and printBalance()."
   ]
  },
  {
   "cell_type": "code",
   "execution_count": 14,
   "metadata": {},
   "outputs": [
    {
     "name": "stdout",
     "output_type": "stream",
     "text": [
      "Enter profit amount: 1000\n",
      "Enter loss amount: 10\n",
      "Balance: 990.0\n"
     ]
    }
   ],
   "source": [
    "class Profit:\n",
    "\n",
    "    def getProfit(self):\n",
    "        self.profit = float(input(\"Enter profit amount: \"))\n",
    "\n",
    "class Loss:\n",
    "\n",
    "    def getLoss(self):\n",
    "        self.loss = float(input(\"Enter loss amount: \"))\n",
    "\n",
    "class BalanceSheet(Profit, Loss):\n",
    "    def __init__(self):\n",
    "        self.balance = 0\n",
    "\n",
    "    def getBalance(self):\n",
    "        self.balance = self.profit - self.loss\n",
    "\n",
    "    def printBalance(self):\n",
    "        print(f\"Balance: {self.balance}\")\n",
    "\n",
    "balance_sheet = BalanceSheet()\n",
    "balance_sheet.getProfit()\n",
    "balance_sheet.getLoss()\n",
    "balance_sheet.getBalance()\n",
    "balance_sheet.printBalance()"
   ]
  },
  {
   "cell_type": "markdown",
   "metadata": {},
   "source": [
    "### 15) WAP to demonstrate all types of inheritance."
   ]
  },
  {
   "cell_type": "code",
   "execution_count": 19,
   "metadata": {},
   "outputs": [
    {
     "name": "stdout",
     "output_type": "stream",
     "text": [
      "Jevin says Woof!\n",
      "Ronit says Meow\n",
      "Does Ronit have fur? True\n",
      "Tesla Model S with battery capacity: 100 kWh\n",
      "Mihir says Squawk!\n",
      "Yash chirps!\n",
      "Dhaval has grade: A\n",
      "Pratyush is a Engineer and has fur: True\n"
     ]
    }
   ],
   "source": [
    "class Animal:\n",
    "    def __init__(self, name):\n",
    "        self.name = name\n",
    "\n",
    "    def speak(self):\n",
    "        return f\"{self.name} makes a sound\"\n",
    "\n",
    "class Dog(Animal):\n",
    "    def __init__(self, name, breed):\n",
    "        super().__init__(name)\n",
    "        self.breed = breed\n",
    "\n",
    "    def speak(self):\n",
    "        return f\"{self.name} says Woof!\"\n",
    "\n",
    "class Mammal:\n",
    "    def has_fur(self):\n",
    "        return True\n",
    "\n",
    "class Cat(Animal, Mammal):\n",
    "    def __init__(self, name):\n",
    "        super().__init__(name)\n",
    "\n",
    "    def speak(self):\n",
    "        return f\"{self.name} says Meow\"\n",
    "\n",
    "class Vehicle:\n",
    "    def __init__(self, brand):\n",
    "        self.brand = brand\n",
    "\n",
    "class Car(Vehicle):\n",
    "    def __init__(self, brand, model):\n",
    "        super().__init__(brand)\n",
    "        self.model = model\n",
    "\n",
    "class ElectricCar(Car):\n",
    "    def __init__(self, brand, model, battery_capacity):\n",
    "        super().__init__(brand, model)\n",
    "        self.battery_capacity = battery_capacity\n",
    "\n",
    "class Bird(Animal):\n",
    "    def __init__(self, name, color):\n",
    "        super().__init__(name)\n",
    "        self.color = color\n",
    "\n",
    "class Parrot(Bird):\n",
    "    def speak(self):\n",
    "        return f\"{self.name} says Squawk!\"\n",
    "\n",
    "class Sparrow(Bird):\n",
    "    def speak(self):\n",
    "        return f\"{self.name} chirps!\"\n",
    "\n",
    "class Person:\n",
    "    def __init__(self, name):\n",
    "        self.name = name\n",
    "\n",
    "class Student(Person):\n",
    "    def __init__(self, name, grade):\n",
    "        super().__init__(name)\n",
    "        self.grade = grade\n",
    "\n",
    "class Worker(Person, Mammal):\n",
    "    def __init__(self, name, job_title):\n",
    "        super().__init__(name)\n",
    "        self.job_title = job_title\n",
    "\n",
    "dog = Dog(\"Jevin\", \"Golden Retriever\")\n",
    "print(dog.speak())\n",
    "\n",
    "cat = Cat(\"Ronit\")\n",
    "print(cat.speak())\n",
    "print(f\"Does {cat.name} have fur? {cat.has_fur()}\")\n",
    "\n",
    "ecar = ElectricCar(\"Tesla\", \"Model S\", \"100 kWh\")\n",
    "print(f\"{ecar.brand} {ecar.model} with battery capacity: {ecar.battery_capacity}\")\n",
    "\n",
    "parrot = Parrot(\"Mihir\", \"Green\")\n",
    "sparrow = Sparrow(\"Yash\", \"Brown\")\n",
    "print(parrot.speak())\n",
    "print(sparrow.speak())\n",
    "\n",
    "student = Student(\"Dhaval\", \"A\")\n",
    "worker = Worker(\"Pratyush\", \"Engineer\")\n",
    "print(f\"{student.name} has grade: {student.grade}\")\n",
    "print(f\"{worker.name} is a {worker.job_title} and has fur: {worker.has_fur()}\")"
   ]
  },
  {
   "cell_type": "markdown",
   "metadata": {},
   "source": [
    "### 16) Create a Person class with a constructor that takes two arguments name and age. \n",
    "### Create a child class Employee that inherits from Person and adds a new attribute salary. \n",
    "### Override the __init__ method in Employee to call the parent class's __init__ method using the super() and then initialize the salary attribute."
   ]
  },
  {
   "cell_type": "code",
   "execution_count": 18,
   "metadata": {},
   "outputs": [
    {
     "name": "stdout",
     "output_type": "stream",
     "text": [
      "Name: Dhaval, Age: 19, Salary: 5000000\n"
     ]
    }
   ],
   "source": [
    "class Person:\n",
    "    def __init__(self, name, age):\n",
    "        self.name = name\n",
    "        self.age = age\n",
    "\n",
    "class Employee(Person):\n",
    "    def __init__(self, name, age, salary):\n",
    "        super().__init__(name, age)\n",
    "        self.salary = salary\n",
    "\n",
    "employee = Employee(\"Dhaval\", 19, 5000000)\n",
    "print(f\"Name: {employee.name}, Age: {employee.age}, Salary: {employee.salary}\")"
   ]
  },
  {
   "cell_type": "markdown",
   "metadata": {},
   "source": [
    "### 17) Create a Shape class with a draw method that is not implemented. \n",
    "### Create three child classes Rectangle, Circle, and Triangle that implement the draw method with their respective drawing behaviors. \n",
    "### Create a list of Shape objects that includes one instance of each child class, and then iterate through the list and call the draw method on each object."
   ]
  },
  {
   "cell_type": "code",
   "execution_count": 17,
   "metadata": {},
   "outputs": [
    {
     "name": "stdout",
     "output_type": "stream",
     "text": [
      "Drawing a Rectangle.\n",
      "Drawing a Circle.\n",
      "Drawing a Triangle.\n"
     ]
    }
   ],
   "source": [
    "from abc import ABC, abstractmethod\n",
    "\n",
    "class Shape(ABC):\n",
    "    @abstractmethod\n",
    "    def draw(self):\n",
    "        pass\n",
    "\n",
    "class Rectangle(Shape):\n",
    "    def draw(self):\n",
    "        print(\"Drawing a Rectangle.\")\n",
    "\n",
    "class Circle(Shape):\n",
    "    def draw(self):\n",
    "        print(\"Drawing a Circle.\")\n",
    "\n",
    "class Triangle(Shape):\n",
    "    def draw(self):\n",
    "        print(\"Drawing a Triangle.\")\n",
    "\n",
    "shapes = [Rectangle(), Circle(), Triangle()]\n",
    "\n",
    "for shape in shapes:\n",
    "    shape.draw()"
   ]
  },
  {
   "cell_type": "code",
   "execution_count": null,
   "metadata": {},
   "outputs": [],
   "source": []
  }
 ],
 "metadata": {
  "kernelspec": {
   "display_name": "Python 3 (ipykernel)",
   "language": "python",
   "name": "python3"
  },
  "language_info": {
   "codemirror_mode": {
    "name": "ipython",
    "version": 3
   },
   "file_extension": ".py",
   "mimetype": "text/x-python",
   "name": "python",
   "nbconvert_exporter": "python",
   "pygments_lexer": "ipython3",
   "version": "3.10.9"
  }
 },
 "nbformat": 4,
 "nbformat_minor": 4
}
