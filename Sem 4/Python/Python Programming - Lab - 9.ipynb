{
 "cells": [
  {
   "cell_type": "markdown",
   "metadata": {},
   "source": [
    "<a href='https://www.darshan.ac.in/'> <img src='https://www.darshan.ac.in/Content/media/DU_Logo.svg' width=\"250\" height=\"300\"/></a>\n",
    "<pre>\n",
    "<center><b><h1>Python Programming - 2301CS404</b></center>\n",
    "<center><b><h1>Lab - 9</b></center>    \n",
    "<pre>"
   ]
  },
  {
   "cell_type": "markdown",
   "metadata": {},
   "source": [
    "# File I/O"
   ]
  },
  {
   "cell_type": "markdown",
   "metadata": {},
   "source": [
    "### 01) WAP to read and display the contents of a text file. (also try to open the file in some other directory) \n",
    "#### - in the form of a string\n",
    "#### - line by line\n",
    "#### - in the form of a list"
   ]
  },
  {
   "cell_type": "code",
   "execution_count": 8,
   "metadata": {},
   "outputs": [
    {
     "name": "stdout",
     "output_type": "stream",
     "text": [
      "Hello World\n",
      "\n",
      "['Hello World\\n', 'I am Dhaval Talaviya']\n"
     ]
    }
   ],
   "source": [
    "f1 = open(\"file1.txt\",\"r\")\n",
    "print(f1.readline())\n",
    "f1.seek(0,0)\n",
    "print(f1.readlines())\n",
    "f1.close()"
   ]
  },
  {
   "cell_type": "markdown",
   "metadata": {},
   "source": [
    "### 02) WAP to create file named \"new.txt\" only if it doesn't exist."
   ]
  },
  {
   "cell_type": "code",
   "execution_count": 9,
   "metadata": {},
   "outputs": [],
   "source": [
    "f2 = open(\"new.txt\",\"w\")\n",
    "f2.write(\"Darshan University\")\n",
    "f2.close()"
   ]
  },
  {
   "cell_type": "markdown",
   "metadata": {},
   "source": [
    "### 03) WAP to read first 5 lines from the text file."
   ]
  },
  {
   "cell_type": "code",
   "execution_count": 15,
   "metadata": {},
   "outputs": [
    {
     "name": "stdout",
     "output_type": "stream",
     "text": [
      "Hello World\n",
      "I am Dhaval Talaviya\n",
      "abc\n",
      "def\n",
      "ghi\n",
      "\n"
     ]
    }
   ],
   "source": [
    "f3 = open(\"file1.txt\",\"r\")\n",
    "data = \"\"\n",
    "for i in range(0,5):\n",
    "    data += f3.readline()\n",
    "print(data)\n",
    "f3.close()"
   ]
  },
  {
   "cell_type": "markdown",
   "metadata": {},
   "source": [
    "### 04) WAP to find the longest word(s) in a file"
   ]
  },
  {
   "cell_type": "code",
   "execution_count": 26,
   "metadata": {},
   "outputs": [
    {
     "name": "stdout",
     "output_type": "stream",
     "text": [
      "Talaviya\n"
     ]
    }
   ],
   "source": [
    "f4 = open(\"file1.txt\", \"r\")\n",
    "words = f4.read().split()\n",
    "maxlen = 0\n",
    "max_word = \"\"\n",
    "\n",
    "for i in words:\n",
    "    if len(i) > maxlen:\n",
    "        max_word = i\n",
    "        maxlen = len(i)\n",
    "print(max_word)\n",
    "f4.close()"
   ]
  },
  {
   "cell_type": "markdown",
   "metadata": {},
   "source": [
    "### 05) WAP to count the no. of lines, words and characters in a given text file."
   ]
  },
  {
   "cell_type": "code",
   "execution_count": 29,
   "metadata": {},
   "outputs": [
    {
     "name": "stdout",
     "output_type": "stream",
     "text": [
      "Char = 56, lines = 8, words = 12\n"
     ]
    }
   ],
   "source": [
    "fp = open(\"file1.txt\", \"r\")\n",
    "char = len(fp.read())\n",
    "fp.seek(0,0)\n",
    "line = len(fp.readlines())\n",
    "fp.seek(0,0)\n",
    "words = len(fp.read().split())\n",
    "print(f'Char = {char}, lines = {line}, words = {words}')"
   ]
  },
  {
   "cell_type": "markdown",
   "metadata": {},
   "source": [
    "### 06) WAP to copy the content of a file to the another file."
   ]
  },
  {
   "cell_type": "code",
   "execution_count": 31,
   "metadata": {},
   "outputs": [],
   "source": [
    "fp = open(\"file1.txt\", \"r\")\n",
    "fp1 = open(\"copyFile1.txt\",\"w\")\n",
    "fp1.write(fp.read())\n",
    "fp.close()\n",
    "fp1.close()"
   ]
  },
  {
   "cell_type": "markdown",
   "metadata": {},
   "source": [
    "### 07) WAP to find the size of the text file. "
   ]
  },
  {
   "cell_type": "code",
   "execution_count": 37,
   "metadata": {},
   "outputs": [
    {
     "name": "stdout",
     "output_type": "stream",
     "text": [
      "64\n"
     ]
    }
   ],
   "source": [
    "fp = open(\"file1.txt\", \"r\")\n",
    "fp.seek(0,2)\n",
    "print(fp.tell())"
   ]
  },
  {
   "cell_type": "markdown",
   "metadata": {},
   "source": [
    "### 08) WAP to create an UDF named frequency to count occurances of the specific word in a given text file."
   ]
  },
  {
   "cell_type": "code",
   "execution_count": 36,
   "metadata": {},
   "outputs": [
    {
     "name": "stdout",
     "output_type": "stream",
     "text": [
      "{'Hello': 1, 'World': 1, 'I': 1, 'am': 1, 'Dhaval': 1, 'Talaviya': 1, 'abc': 2, 'def': 2, 'ghi': 1, 'jkl': 1, 'mno': 1, 'pqr': 1}\n"
     ]
    }
   ],
   "source": [
    "def freq(data):\n",
    "    dict1 = {}\n",
    "    for i in data:\n",
    "        if i not in dict1:\n",
    "            dict1[i] = data.count(i)\n",
    "    return dict1\n",
    "\n",
    "fp = open(\"file1.txt\", \"r\")\n",
    "print(freq(fp.read().split()))"
   ]
  },
  {
   "cell_type": "markdown",
   "metadata": {},
   "source": [
    "### 09) WAP to get the score of five subjects from the user, store them in a file. Fetch those marks and find the highest score."
   ]
  },
  {
   "cell_type": "code",
   "execution_count": 49,
   "metadata": {},
   "outputs": [
    {
     "name": "stdout",
     "output_type": "stream",
     "text": [
      "Enter Subjects : asd asd ads\n",
      "Enter Marks : 98 87 77\n",
      "98\n"
     ]
    }
   ],
   "source": [
    "sub = input(\"Enter Subjects : \").split()\n",
    "mark = input(\"Enter Marks : \").split()\n",
    "fp = open(\"marksheet.txt\",\"w+\")\n",
    "data = \"\"\n",
    "for i in range(0,len(sub)):\n",
    "    data += sub[i] + \" : \" + mark[i] + \"\\n\"\n",
    "fp.write(data)\n",
    "\n",
    "fetch = fp.read().split(' :')\n",
    "marks = [int(i) for i in fetch if i.isdigit()]\n",
    "print(max(mark))\n",
    "fp.close()"
   ]
  },
  {
   "cell_type": "markdown",
   "metadata": {},
   "source": [
    "### 10) WAP to write first 100 prime numbers to a file named primenumbers.txt \n",
    "(Note: each number should be in new line)"
   ]
  },
  {
   "cell_type": "code",
   "execution_count": null,
   "metadata": {},
   "outputs": [],
   "source": []
  },
  {
   "cell_type": "markdown",
   "metadata": {},
   "source": [
    "### 11) WAP to merge two files and write it in a new file."
   ]
  },
  {
   "cell_type": "code",
   "execution_count": null,
   "metadata": {},
   "outputs": [],
   "source": []
  },
  {
   "cell_type": "markdown",
   "metadata": {},
   "source": [
    "### 12) WAP to replace word1 by word2 of a text file. Write the updated data to new file."
   ]
  },
  {
   "cell_type": "code",
   "execution_count": null,
   "metadata": {},
   "outputs": [],
   "source": []
  },
  {
   "cell_type": "markdown",
   "metadata": {},
   "source": [
    "### 13) Demonstrate tell() and seek() for all the cases(seek from beginning-end-current position) taking a suitable example of your choice."
   ]
  },
  {
   "cell_type": "code",
   "execution_count": null,
   "metadata": {},
   "outputs": [],
   "source": []
  }
 ],
 "metadata": {
  "kernelspec": {
   "display_name": "Python 3 (ipykernel)",
   "language": "python",
   "name": "python3"
  },
  "language_info": {
   "codemirror_mode": {
    "name": "ipython",
    "version": 3
   },
   "file_extension": ".py",
   "mimetype": "text/x-python",
   "name": "python",
   "nbconvert_exporter": "python",
   "pygments_lexer": "ipython3",
   "version": "3.10.9"
  }
 },
 "nbformat": 4,
 "nbformat_minor": 4
}
