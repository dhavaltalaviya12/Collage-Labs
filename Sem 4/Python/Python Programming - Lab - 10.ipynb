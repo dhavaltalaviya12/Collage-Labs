{
 "cells": [
  {
   "cell_type": "markdown",
   "metadata": {},
   "source": [
    "<a href='https://www.darshan.ac.in/'> <img src='https://www.darshan.ac.in/Content/media/DU_Logo.svg' width=\"250\" height=\"300\"/></a>\n",
    "<pre>\n",
    "<center><b><h1>Python Programming - 2301CS404</b></center>\n",
    "<center><b><h1>Lab - 10</b></center>    \n",
    "<pre>"
   ]
  },
  {
   "cell_type": "markdown",
   "metadata": {},
   "source": [
    "# Exception Handling"
   ]
  },
  {
   "cell_type": "markdown",
   "metadata": {},
   "source": [
    "### 01) WAP to handle following exceptions:\n",
    "1. ZeroDivisionError\n",
    "2. ValueError\n",
    "3. TypeError\n",
    "#### Note: handle them using separate except blocks and also using single except block too."
   ]
  },
  {
   "cell_type": "code",
   "execution_count": 7,
   "metadata": {},
   "outputs": [
    {
     "name": "stdout",
     "output_type": "stream",
     "text": [
      "Divide by zero\n",
      "Enter a number : as\n",
      "Please enter numaric value\n",
      "Type Error\n"
     ]
    }
   ],
   "source": [
    "try:\n",
    "    ans = 10/0\n",
    "    print(ans)\n",
    "except ZeroDivisionError:\n",
    "    print('Divide by zero')\n",
    "    \n",
    "try:\n",
    "    n = int(input(\"Enter a number : \"))\n",
    "except ValueError:\n",
    "    print(\"Please enter numaric value\")\n",
    "    \n",
    "try:\n",
    "    a = 110\n",
    "    b = \"Dhaval\"\n",
    "    sum = a+b\n",
    "except TypeError:\n",
    "    print(\"Type Error\")"
   ]
  },
  {
   "cell_type": "markdown",
   "metadata": {},
   "source": [
    "### 02)  WAP to handle following exceptions:\n",
    "1. IndexError\n",
    "2. KeyError"
   ]
  },
  {
   "cell_type": "code",
   "execution_count": 17,
   "metadata": {},
   "outputs": [
    {
     "name": "stdout",
     "output_type": "stream",
     "text": [
      "Index out of bound\n",
      "This key is not exist\n"
     ]
    }
   ],
   "source": [
    "try:\n",
    "    l1 = [1,2,3]\n",
    "    print(l1[5])\n",
    "except IndexError:\n",
    "    print(\"Index out of bound\")\n",
    "    \n",
    "try:\n",
    "    d1 = {\"1\" : \"Dhaval\", \"2\" : \"Nandan\"}\n",
    "    print(d1[\"10\"])\n",
    "except KeyError:\n",
    "    print(\"This key is not exist\")"
   ]
  },
  {
   "cell_type": "markdown",
   "metadata": {},
   "source": [
    "### 03) WAP to handle following exceptions:\n",
    "1. FileNotFoundError\n",
    "2. ModuleNotFoundError"
   ]
  },
  {
   "cell_type": "code",
   "execution_count": 18,
   "metadata": {},
   "outputs": [
    {
     "name": "stdout",
     "output_type": "stream",
     "text": [
      "This file is not found\n"
     ]
    }
   ],
   "source": [
    "try:\n",
    "    f1 = open(\"abc.txt\",\"r\")\n",
    "except FileNotFoundError:\n",
    "    print(\"This file is not found\")"
   ]
  },
  {
   "cell_type": "markdown",
   "metadata": {},
   "source": [
    "### 04) WAP that catches all type of exceptions in a single except block."
   ]
  },
  {
   "cell_type": "code",
   "execution_count": 22,
   "metadata": {},
   "outputs": [
    {
     "name": "stdout",
     "output_type": "stream",
     "text": [
      "division by zero\n"
     ]
    }
   ],
   "source": [
    "try:\n",
    "    ans = 100/0\n",
    "except Exception as err:\n",
    "    print(err)"
   ]
  },
  {
   "cell_type": "markdown",
   "metadata": {},
   "source": [
    "### 05) WAP to demonstrate else  and finally block."
   ]
  },
  {
   "cell_type": "code",
   "execution_count": 26,
   "metadata": {},
   "outputs": [
    {
     "name": "stdout",
     "output_type": "stream",
     "text": [
      "Hello Everyone,\n",
      "I am Dhaval Talaviya\n",
      "\n"
     ]
    }
   ],
   "source": [
    "try:\n",
    "    fp = open(\"file1.txt\",\"r\")\n",
    "except FileNotFoundError:\n",
    "    print(\"File Does not exist\")\n",
    "else:\n",
    "    print(fp.read())\n",
    "finally:\n",
    "    fp.close()"
   ]
  },
  {
   "cell_type": "markdown",
   "metadata": {},
   "source": [
    "### 06) Create a short program that prompts the user for a list of grades separated by commas. \n",
    "### Split the string into individual grades and use a list comprehension to convert each string to an integer. \n",
    "### You should use a try statement to inform the user when the values they entered cannot be converted."
   ]
  },
  {
   "cell_type": "code",
   "execution_count": 35,
   "metadata": {},
   "outputs": [
    {
     "name": "stdout",
     "output_type": "stream",
     "text": [
      "Enter the grades comma separated : 1,2,3\n",
      "['1', '2', '3']\n",
      "Grades are : [1, 2, 3]\n"
     ]
    }
   ],
   "source": [
    "try:\n",
    "    grades = input(\"Enter the grades comma separated : \").split(\",\")\n",
    "    print(grades)\n",
    "    g1 = [int(i) for i in grades]\n",
    "except Exception as err:\n",
    "    print(err)\n",
    "else:\n",
    "    print(f'Grades are : {g1}')"
   ]
  },
  {
   "cell_type": "markdown",
   "metadata": {},
   "source": [
    "### 07) WAP to create an udf divide(a,b) that handles ZeroDivisionError."
   ]
  },
  {
   "cell_type": "code",
   "execution_count": 43,
   "metadata": {},
   "outputs": [
    {
     "name": "stdout",
     "output_type": "stream",
     "text": [
      "You can't Divide by zero\n"
     ]
    }
   ],
   "source": [
    "def divide(a,b):\n",
    "    try:    \n",
    "        ans = a//b\n",
    "        print(ans)\n",
    "    except ZeroDivisionError:\n",
    "        print(\"You can't Divide by zero\")\n",
    "    \n",
    "divide(10,0)"
   ]
  },
  {
   "cell_type": "markdown",
   "metadata": {},
   "source": [
    "### 08) WAP that gets an age of a person form the user and raises ValueError with error message: \"Enter Valid Age\" :\n",
    "#### If the age is less than 18. \n",
    "#### otherwise print the age."
   ]
  },
  {
   "cell_type": "code",
   "execution_count": 46,
   "metadata": {},
   "outputs": [
    {
     "name": "stdout",
     "output_type": "stream",
     "text": [
      "Enter Age : 10\n",
      "Enter valid Age\n"
     ]
    }
   ],
   "source": [
    "try:\n",
    "    age = int(input(\"Enter Age : \"))\n",
    "    if age < 18:\n",
    "        raise Exception\n",
    "    else:\n",
    "        print(age)\n",
    "except Exception:\n",
    "    print(\"Enter valid Age\")"
   ]
  },
  {
   "cell_type": "markdown",
   "metadata": {},
   "source": [
    "### 09) WAP to raise your custom Exception named InvalidUsernameError with the error message : \"Username must be between 5 and 15 characters long\":\n",
    "#### if the given name is having characters less than 5 or greater than 15.\n",
    "#### otherwise print the given username."
   ]
  },
  {
   "cell_type": "code",
   "execution_count": 55,
   "metadata": {},
   "outputs": [
    {
     "name": "stdout",
     "output_type": "stream",
     "text": [
      "Enter Name : Raj\n",
      "Username must be between 5 and 15 characters long\n"
     ]
    }
   ],
   "source": [
    "class InvalidUsernameError(Exception):\n",
    "    def init (self,msg):\n",
    "        self.msg = msg\n",
    "\n",
    "try:\n",
    "    name = input(\"Enter Name : \")\n",
    "    if len(name)<5 or len(name)>15:\n",
    "        raise InvalidUsernameError(\"Username must be between 5 and 15 characters long\")\n",
    "    else:\n",
    "        print(name)\n",
    "except InvalidUsernameError as err:\n",
    "    print(err)"
   ]
  },
  {
   "cell_type": "markdown",
   "metadata": {},
   "source": [
    "### 10) WAP to raise your custom Exception named NegativeNumberError with the error message : \"Cannot calculate the square root of a negative number\" :\n",
    "#### if the given number is negative.\n",
    "#### otherwise print the square root of the given number."
   ]
  },
  {
   "cell_type": "code",
   "execution_count": 57,
   "metadata": {},
   "outputs": [
    {
     "name": "stdout",
     "output_type": "stream",
     "text": [
      "Enter Number : -1\n",
      "Cannot calculate the square root of a negative number.\n"
     ]
    }
   ],
   "source": [
    "import math\n",
    "\n",
    "class NegativeNumberError(Exception):\n",
    "    def init(self, msg):\n",
    "        self.msg = msg\n",
    "        \n",
    "try:\n",
    "    n = int(input(\"Enter Number : \"))\n",
    "    if n < 0:\n",
    "        raise NegativeNumberError(\"Cannot calculate the square root of a negative number.\")\n",
    "    else:\n",
    "        print(math.sqrt(n))\n",
    "except NegativeNumberError as err:\n",
    "    print(err)\n"
   ]
  }
 ],
 "metadata": {
  "kernelspec": {
   "display_name": "Python 3 (ipykernel)",
   "language": "python",
   "name": "python3"
  },
  "language_info": {
   "codemirror_mode": {
    "name": "ipython",
    "version": 3
   },
   "file_extension": ".py",
   "mimetype": "text/x-python",
   "name": "python",
   "nbconvert_exporter": "python",
   "pygments_lexer": "ipython3",
   "version": "3.10.9"
  }
 },
 "nbformat": 4,
 "nbformat_minor": 4
}
